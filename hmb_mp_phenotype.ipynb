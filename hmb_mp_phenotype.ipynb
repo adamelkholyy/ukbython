{
 "cells": [
  {
   "cell_type": "markdown",
   "id": "871cd589",
   "metadata": {},
   "source": [
    "# HMB and MP Phenotype Derivation on UK Biobank RAP\n",
    "Notebook for deriving Heavy Menstrual Bleeding and Menstrual Pain phenotypes for use in a Genome Wide Association Study (GWAS) on the UK Biobank RAP platform.        \n",
    "*Cell outputs removed in compliance with Biobank data protection rules*\n",
    "\n",
    "Author: **Adam El Kholy**    \n",
    "Project P.I: **Dr. Gemma Sharp**    \n",
    "Department of Psychology in collaboration with the Exeter Genetics Group,           \n",
    "University of Exeter    \n",
    "Last updated: 27/01/2025"
   ]
  },
  {
   "cell_type": "code",
   "execution_count": 1,
   "id": "058cee82-0fe5-4f46-afe6-6cc558f93816",
   "metadata": {
    "tags": []
   },
   "outputs": [
    {
     "name": "stdout",
     "output_type": "stream",
     "text": [
      "Running on database app103356_20241205153134...\n"
     ]
    }
   ],
   "source": [
    "import matplotlib.pyplot as plt\n",
    "from pyspark.sql import functions as F\n",
    "from ukbython import ukbython\n",
    "ukb = ukbython()"
   ]
  },
  {
   "cell_type": "markdown",
   "id": "12fbece3",
   "metadata": {},
   "source": [
    "# Heavy Menstrual Bleeding (HMB) phenotype"
   ]
  },
  {
   "cell_type": "markdown",
   "id": "ca2b5807-45d0-48a5-89b1-c0cb4bb9f218",
   "metadata": {
    "tags": []
   },
   "source": [
    "## ICD9, ICD10, Read2 and CTV3 codes"
   ]
  },
  {
   "cell_type": "markdown",
   "id": "725cd91e-b16d-4e2d-bf66-b15672d14f8e",
   "metadata": {},
   "source": [
    "Getting ICD9 eids and dates"
   ]
  },
  {
   "cell_type": "code",
   "execution_count": 2,
   "id": "d2fc2024-0d6a-435b-a0b0-38fe6b0018a3",
   "metadata": {
    "tags": []
   },
   "outputs": [
    {
     "name": "stdout",
     "output_type": "stream",
     "text": [
      "Searching 2 ICD9 codes...\n",
      "Operation complete: Found 1592 matching records in 20.75 seconds.\n"
     ]
    }
   ],
   "source": [
    "icd9s = [\n",
    "    \"6262\",  # excessive or frequent menstruation\n",
    "    \"6270\"   # premenopausal menorrhagia\n",
    "]\n",
    "hmb_icd9 = ukb.get_icd9(icd9s)"
   ]
  },
  {
   "cell_type": "markdown",
   "id": "5de18745-ecb7-4643-ba37-e5c63d9fcd49",
   "metadata": {},
   "source": [
    "Getting ICD10 eids and dates"
   ]
  },
  {
   "cell_type": "code",
   "execution_count": 3,
   "id": "243ff78d-6a4e-4630-984d-994e74557680",
   "metadata": {
    "tags": []
   },
   "outputs": [
    {
     "name": "stdout",
     "output_type": "stream",
     "text": [
      "Searching 4 ICD10 codes...\n",
      "Found 14715 matching hospital records\n",
      "Found 0 matching death records\n",
      "Found 0 matching cancer records\n",
      "Operation complete: Found 14715 matching records in 32.05 seconds.\n"
     ]
    }
   ],
   "source": [
    "icd10s = [\n",
    "    \"N92.0\",  # excessive and frequent menstruation with regular cycle\n",
    "    \"N92.1\",  # excessive and frequent menstruation with irregular cycle\n",
    "    \"N92.2\",  # excessive menstruation at puberty\n",
    "    \"N92.4\"   # excessive bleeding in the premenopausal period\n",
    "]\n",
    "hmb_icd10_hesin = ukb.get_icd10(icd10s)"
   ]
  },
  {
   "cell_type": "markdown",
   "id": "47a959ed-63a0-4f1e-bda6-3370994488d3",
   "metadata": {},
   "source": [
    "Get GP clinical eids (Read2/CTV3 codes) and dates"
   ]
  },
  {
   "cell_type": "code",
   "execution_count": 4,
   "id": "9a608e88-e462-419c-bdb7-8bc0ace67c69",
   "metadata": {
    "tags": []
   },
   "outputs": [],
   "source": [
    "Read2 = [\n",
    "    \"K5A0.11\",  # climacteric menorrhagia\n",
    "    \"K592.00\",  # excessive or frequent menstruation\n",
    "    \"K592z00\",  # excessive or frequent menstruation nos\n",
    "    \"1573.11\",  # h/o: heavy period\n",
    "    \"573.00\",   # h/o: menorrhagia\n",
    "    \"K592012\",  # heavy menstrual bleeding\n",
    "    \"K592011\",  # heavy periods\n",
    "    \"K592000\",  # menorrhagia\n",
    "    \"K5A6.00\",  # perimenopausal menorrhagia\n",
    "    \"K5A0.00\",  # premenopausal menorrhagia\n",
    "    \"K593.11\",  # pubertal bleeding and menorrhagia\n",
    "    \"K592.12\"   # hypermenorrhoea\n",
    "]  "
   ]
  },
  {
   "cell_type": "code",
   "execution_count": 5,
   "id": "353241a4-d821-4737-ac7f-1dacc2ccc475",
   "metadata": {
    "tags": []
   },
   "outputs": [
    {
     "name": "stdout",
     "output_type": "stream",
     "text": [
      "Searching 12 Read2/CTV3 codes...\n",
      "Operation complete: Found 14957 matching records in 5.64 seconds.\n"
     ]
    }
   ],
   "source": [
    "hmb_gp_clinical = ukb.get_gp_clinical(Read2)"
   ]
  },
  {
   "cell_type": "markdown",
   "id": "63fe3d5d-9f4d-4c87-bca5-aacf4008962c",
   "metadata": {},
   "source": [
    "Checking ICD10 death records: no entries"
   ]
  },
  {
   "cell_type": "code",
   "execution_count": 6,
   "id": "301d5a08-2874-48a5-9aae-8e134f303c2a",
   "metadata": {
    "tags": []
   },
   "outputs": [],
   "source": [
    "# hmb_icd10_death = ukb.get_icd10_death(icd10s)\n",
    "# hmb_icd10_death.count()"
   ]
  },
  {
   "cell_type": "markdown",
   "id": "b6e640fb-3023-4e3d-9c64-01ee7d5b6f19",
   "metadata": {
    "tags": []
   },
   "source": [
    "## Tranexamic acid phenotype"
   ]
  },
  {
   "cell_type": "markdown",
   "id": "8ec06a4b-55e8-4756-9579-80492e212c24",
   "metadata": {},
   "source": [
    "Treatment/medication code: field code: 20003  \n",
    "Tranexamic acid n=699    \n",
    "code: 1140861832"
   ]
  },
  {
   "cell_type": "markdown",
   "id": "3cbf2ecf-8842-4776-afe2-8ded673caaa1",
   "metadata": {},
   "source": [
    "p20003_i{i}_a{a}\n",
    "for  \n",
    "0 to 3 inclusive instances, \n",
    "0 to 47 inclusive arrays with \n",
    "no dates"
   ]
  },
  {
   "cell_type": "code",
   "execution_count": 7,
   "id": "edef70f9-17ab-4022-85d3-8a7791911325",
   "metadata": {
    "tags": []
   },
   "outputs": [],
   "source": [
    "# all fields potentially containing a treatment code\n",
    "columns = [f\"p20003_i{i}_a{a}\" for i in range(4) for a in range(48)]\n",
    "\n",
    "# extract eids with treatment code for tranexamic acid\n",
    "query = f\"SELECT DISTINCT eid FROM `{ukb.database}`.`participant_0032` WHERE {' OR '.join([f'{col} = 1140861832' for col in columns])}\"\n",
    "\n",
    "tranex_df = ukb.spark.sql(query)"
   ]
  },
  {
   "cell_type": "markdown",
   "id": "445e40c9-8675-4dbc-8d82-8bf6075ec7e4",
   "metadata": {
    "tags": []
   },
   "source": [
    "## Endometrial ablation phenotype"
   ]
  },
  {
   "cell_type": "markdown",
   "id": "fe6cc1f1-adad-4f76-b73a-60677cb95039",
   "metadata": {},
   "source": [
    "Endometrial ablation field code = 20004   \n",
    "operations code = 1360"
   ]
  },
  {
   "cell_type": "code",
   "execution_count": 8,
   "id": "9034c5f5-1e39-4421-bf31-6dd1b9896959",
   "metadata": {
    "tags": []
   },
   "outputs": [],
   "source": [
    "# all fields potentially containing a self-reported operation \n",
    "columns = [f\"p20004_i{i}_a{a}\" for i in range(4) for a in range(32)]\n",
    "\n",
    "# concatenate all fields into one query to check for endometrial ablation\n",
    "case_statements = [f\"WHEN {col} = 1360 THEN '{col[8]},{col[11:]}'\" for col in columns]\n",
    "case_condition = \" \".join(case_statements)\n",
    "\n",
    "# extract (instance, array index)  for date querying\n",
    "query = f\"\"\"\n",
    "SELECT eid, \n",
    "       CASE {case_condition} \n",
    "       ELSE NULL \n",
    "       END AS idx\n",
    "FROM `{ukb.database}`.`participant_0032`\n",
    "WHERE { \" OR \".join([f\"{col} = 1360\" for col in columns]) }\n",
    "\"\"\"\n",
    "\n",
    "endo_df = ukb.spark.sql(query)"
   ]
  },
  {
   "cell_type": "markdown",
   "id": "7ef74f1c-2229-41aa-ab4d-26dae596921b",
   "metadata": {},
   "source": [
    "Extracting fields for date of first diagnosis calculation:\n",
    "- p20010: date of diagnosis\n",
    "- p20011: age of diagnosis  \n",
    "\n",
    "Extracting instance and array fields (4 instances with 32 arrays each):\n",
    "- p20010 fields i0_a0 to i0_a9 are in p_0033, the rest are in p_0034\n",
    "- p20011 fields are all in p_0034"
   ]
  },
  {
   "cell_type": "code",
   "execution_count": 9,
   "id": "750335eb-bf0d-4431-80f3-e70efe65e1dd",
   "metadata": {
    "tags": []
   },
   "outputs": [],
   "source": [
    "# field names for querying p0033 and p0034, defined as above\n",
    "p_33_selections = [\"eid\"] + [f\"p20010_i0_a{a}\" for a in range(10)]\n",
    "p_34_selections = [\"eid\"] + [f\"p20010_i{i}_a{a}\" for i in range(4) for a in range(32) if int(i) != 0 or int(a) > 9] + [f\"p20011_i{i}_a{a}\" for i in range(4) for a in range(32)]\n",
    "\n",
    "# querying p0033, p0034, and date of birth register\n",
    "p_33_df = ukb.spark.sql(f\"SELECT eid, {', '.join(p_33_selections)} FROM `{ukb.database}`.`participant_0033`\")\n",
    "p_34_df = ukb.spark.sql(f\"SELECT eid, {', '.join(p_34_selections)} FROM `{ukb.database}`.`participant_0034`\")\n",
    "dob_df = ukb.spark.sql(f\"SELECT eid, p34 FROM  `{ukb.database}`.`participant_0001`\")\n",
    "\n",
    "# inner joins to create master dataframe\n",
    "main_df = endo_df.join(p_33_df, on=\"eid\", how=\"inner\")\n",
    "main_df = main_df.join(p_34_df, on=\"eid\", how=\"inner\")\n",
    "main_df = main_df.join(dob_df, on=\"eid\", how=\"inner\")"
   ]
  },
  {
   "cell_type": "code",
   "execution_count": 10,
   "id": "44e64452-be88-4ec8-9a40-0ab0d54f4383",
   "metadata": {
    "tags": []
   },
   "outputs": [],
   "source": [
    "# convert spark DataFrame into Python list\n",
    "endo_list = main_df.collect()"
   ]
  },
  {
   "cell_type": "code",
   "execution_count": 11,
   "id": "8847f1f9-a079-459b-aa1e-98cbff75afc9",
   "metadata": {
    "tags": []
   },
   "outputs": [],
   "source": [
    "endo_ages_list = []\n",
    "\n",
    "# enumerate endometrial ablation eids\n",
    "for entry in endo_list:\n",
    "    # extract instance, array indexes\n",
    "    i, a = entry[\"idx\"].split(\",\")\n",
    "\n",
    "    # get date of birth\n",
    "    dob = entry[\"p34\"]\n",
    "\n",
    "    # get age and date of diagnosis\n",
    "    age = entry[f\"p20011_i{i}_a{a}\"]\n",
    "    date = entry[f\"p20010_i{i}_a{a}\"]\n",
    "\n",
    "    # convert date to age\n",
    "    date_to_age = round(date - dob, 1)\n",
    "\n",
    "    # validation for calculating correct min value\n",
    "    if age <= 0:\n",
    "        age = 10000\n",
    "    if date_to_age <= 0:\n",
    "        date_to_age = 10000\n",
    "    first_diagnosis_age = min(age, date_to_age)\n",
    "\n",
    "    if first_diagnosis_age == 10000:\n",
    "        first_diagnosis_age = None\n",
    "\n",
    "    endo_ages_list.append([int(entry[\"eid\"]), first_diagnosis_age])\n",
    "\n",
    "# print(\"\\n\".join([str(e) for e in endo_ages_list[:10]]))\n",
    "# print(len(endo_ages_list))"
   ]
  },
  {
   "cell_type": "code",
   "execution_count": 12,
   "id": "3d6b9142-a9be-4e2e-a177-ba1c6675f7db",
   "metadata": {
    "tags": []
   },
   "outputs": [],
   "source": [
    "endo_ages_df = ukb.spark.createDataFrame(endo_ages_list, schema=['eid', 'first_diagnosis_age'])"
   ]
  },
  {
   "cell_type": "markdown",
   "id": "117473bd-a923-4c90-9b27-05493126068e",
   "metadata": {
    "tags": []
   },
   "source": [
    "## Final HMB phenotype"
   ]
  },
  {
   "cell_type": "markdown",
   "id": "353d295b-7ad6-4e61-bcaf-e69e74a4dbb1",
   "metadata": {},
   "source": [
    "Derived variables:   \n",
    "• hmb_ever <- any diagnosis ever recorded vs no diagnosis ever recorded    \n",
    "• hmb_incident_ado <- any diagnosis before or equal to age 19 vs no diagnosis before or equal to age 19    \n",
    "• hmb_incident_mid <- any diagnosis between age 20-40 (inclusive) vs no diagnosis between age 20-40 (inclusive)    \n",
    "• hmb_incident_meno <- any diagnosis between age 40-60 (inclusive) vs no diagnosis between age 40-60 (inclusive)    "
   ]
  },
  {
   "cell_type": "code",
   "execution_count": 13,
   "id": "d4b7f5f6-7843-45e7-9b71-b6aa3cfec44d",
   "metadata": {
    "tags": []
   },
   "outputs": [],
   "source": [
    "# join all dates entries into one table\n",
    "all_dates_df = hmb_icd9.join(hmb_icd10_hesin.withColumnRenamed(\"diagnosis_date\", \"icd10_diagnosis_date\"), on=\"eid\", how=\"outer\")\n",
    "all_dates_df = all_dates_df.join(hmb_gp_clinical, on=\"eid\", how=\"outer\")"
   ]
  },
  {
   "cell_type": "code",
   "execution_count": 14,
   "id": "ea24a40d-1b94-4b86-b754-dd345d5ece11",
   "metadata": {
    "tags": []
   },
   "outputs": [],
   "source": [
    "# get the earliest date across all fields\n",
    "first_date_df = all_dates_df.withColumn('first_diagnosis_date', F.least(F.col('diagnosis_date'), F.col('icd10_diagnosis_date'), F.col('event_dt')))\n",
    "first_date_df = first_date_df.select(\"eid\", F.year(\"first_diagnosis_date\").alias(\"first_diagnosis_date\"))"
   ]
  },
  {
   "cell_type": "code",
   "execution_count": 15,
   "id": "6d30555c-a4b4-422f-8827-bfe3afc9882b",
   "metadata": {
    "tags": []
   },
   "outputs": [],
   "source": [
    "# join dobs with first diagnosis dates\n",
    "dates_to_ages_df = first_date_df.join(dob_df, on=\"eid\", how=\"inner\")\n",
    "\n",
    "# subtract date of birth from diagnosis date to get age at diagnosis\n",
    "dates_to_ages_df = dates_to_ages_df.withColumn(\n",
    "    \"first_diagnosis_age_unfiltered\", \n",
    "    dates_to_ages_df[\"first_diagnosis_date\"] - dates_to_ages_df[\"p34\"]\n",
    ")\n",
    "\n",
    "# replace ages <= 0 with null in a column \n",
    "dates_to_ages_df = dates_to_ages_df.withColumn(\n",
    "    'first_diagnosis_age_',\n",
    "    F.when(F.col('first_diagnosis_age_unfiltered') <= 0, F.lit(None))  # if value <= 0, set it to null\n",
    "    .otherwise(F.col('first_diagnosis_age_unfiltered'))                # otherwise keep the original value\n",
    ")\n",
    "\n",
    "all_ages_df = dates_to_ages_df.select(\"eid\", \"first_diagnosis_age_\")"
   ]
  },
  {
   "cell_type": "code",
   "execution_count": 16,
   "id": "0473bf4f-0ceb-466c-9536-effd1e640abd",
   "metadata": {
    "tags": []
   },
   "outputs": [],
   "source": [
    "# finally get mininum age of diagnosis from [min(ICD9, ICD10, Read2 codes)] , [endometrial ablation]\n",
    "combined_ages_df = all_ages_df.join(endo_ages_df, on=\"eid\", how=\"outer\")\n",
    "final_ages_df = combined_ages_df.withColumn('diagnosis_age', F.least(F.col('first_diagnosis_age_'), F.col('first_diagnosis_age')))\n",
    "final_ages_df = final_ages_df.select(\"eid\", \"diagnosis_age\")"
   ]
  },
  {
   "cell_type": "code",
   "execution_count": 17,
   "id": "733f1e6f-4c47-4136-8d1d-1b529c4920b2",
   "metadata": {
    "tags": []
   },
   "outputs": [],
   "source": [
    "# finally join tranxamic acid participants (for whom no dates are available)\n",
    "hmb_phenotype_df = final_ages_df.join(tranex_df, on=\"eid\", how=\"outer\")"
   ]
  },
  {
   "cell_type": "markdown",
   "id": "1ab5601d-80dd-4182-8a34-9e1db1603576",
   "metadata": {},
   "source": [
    "## Filtering female participants only"
   ]
  },
  {
   "cell_type": "code",
   "execution_count": 18,
   "id": "cde0a5ef-6eba-4f14-83c5-07697d30c28b",
   "metadata": {
    "tags": []
   },
   "outputs": [],
   "source": [
    "query = f\"SELECT DISTINCT eid FROM `{ukb.database}`.`participant_0001` WHERE p31 == 0\"\n",
    "females_df = ukb.spark.sql(query)\n",
    "hmb_phenotype_df = females_df.join(hmb_phenotype_df, on=\"eid\", how=\"inner\")"
   ]
  },
  {
   "cell_type": "markdown",
   "id": "8a828b0d-029d-4ef9-b9e0-0eaec4799348",
   "metadata": {
    "tags": []
   },
   "source": [
    "## Deriving HMB variables\n",
    "• hmb_ever <- any diagnosis ever recorded vs no diagnosis ever recorded    \n",
    "• hmb_incident_ado <- any diagnosis before or equal to age 19 vs no diagnosis before or equal to age 19    \n",
    "• hmb_incident_mid2 <- with a different age at first diagnosis range: 20 <= age <= 40          \n",
    "• hmb_incident_meno2 <- with a different age at first diagnosis range: age >= 40    \n",
    "• filter out over 60s"
   ]
  },
  {
   "cell_type": "code",
   "execution_count": 19,
   "id": "91c97363-0d20-4aa6-a155-f88a7bd3729f",
   "metadata": {
    "tags": []
   },
   "outputs": [],
   "source": [
    "def derive_variables(df, name):\n",
    "    phenotype_df = df.withColumn(\n",
    "        \"diagnosis_age\",\n",
    "        F.when(F.col(\"diagnosis_age\") < 0, None).otherwise(F.col(\"diagnosis_age\")),\n",
    "    )\n",
    "    # age ≤ 19\n",
    "    phenotype_df = phenotype_df.withColumn(\n",
    "        f\"{name}_incident_ado\",\n",
    "        F.when(\n",
    "            (F.col(\"diagnosis_age\") > 0) & (F.col(\"diagnosis_age\") <= 19), F.lit(1)\n",
    "        ).otherwise(F.lit(0)),\n",
    "    )\n",
    "    # 19 < age ≤ 40\n",
    "    phenotype_df = phenotype_df.withColumn(\n",
    "        f\"{name}_incident_mid2\",\n",
    "        F.when(\n",
    "            (F.col(\"diagnosis_age\") > 19) & (F.col(\"diagnosis_age\") <= 40), F.lit(1)\n",
    "        ).otherwise(F.lit(0)),\n",
    "    )\n",
    "    # 40 < age ≤ 60\n",
    "    phenotype_df = phenotype_df.withColumn(\n",
    "        f\"{name}_incident_meno2\",\n",
    "        F.when(\n",
    "            (F.col(\"diagnosis_age\") > 40)  & (F.col(\"diagnosis_age\") <= 60), F.lit(1)\n",
    "        ).otherwise(F.lit(0)),\n",
    "    )\n",
    "    # over 60\n",
    "    phenotype_df = phenotype_df.withColumn(\n",
    "        f\"{name}_over60\",\n",
    "        F.when(F.col(\"diagnosis_age\") > 60, F.lit(1)).otherwise(F.lit(0)),\n",
    "    )\n",
    "    # ever variable: filter out over 60s\n",
    "    phenotype_df = phenotype_df.withColumn(\n",
    "        f\"{name}_ever\",\n",
    "        F.when(F.col(f\"{name}_over60\") == 1, F.lit(0)).otherwise(F.lit(1)),\n",
    "    )\n",
    "\n",
    "\n",
    "    # calculate summary statistics\n",
    "    summary_stats = (\n",
    "        phenotype_df.agg(\n",
    "            F.sum(F.col(f\"{name}_ever\")).alias(\"n\"),\n",
    "            F.avg(\n",
    "                F.when((F.col(\"diagnosis_age\").isNotNull()) & (F.col(f\"{name}_ever\") == 1), F.col(\"diagnosis_age\"))\n",
    "            ).alias(\"avg_diagnosis_age\"),\n",
    "            F.sum(\n",
    "                F.when(F.col(\"diagnosis_age\").isNull(), 1).otherwise(0)\n",
    "            ).alias(\"null_ages\"),\n",
    "            F.sum(F.col(f\"{name}_incident_ado\")).alias(f\"{name}_incident_ado_count\"),\n",
    "            F.sum(F.col(f\"{name}_incident_mid2\")).alias(f\"{name}_incident_mid_count2\"),\n",
    "            F.sum(F.col(f\"{name}_incident_meno2\")).alias(f\"{name}_incident_meno_count2\"),\n",
    "            F.sum(F.col(f\"{name}_over60\")).alias(f\"{name}_over60_count\"),\n",
    "        )\n",
    "        .collect()[0]\n",
    "        .asDict()\n",
    "    )\n",
    "\n",
    "    summary_stats[\"name\"] = name\n",
    "\n",
    "    return phenotype_df, summary_stats\n"
   ]
  },
  {
   "cell_type": "code",
   "execution_count": 20,
   "id": "4d081900-29f0-482f-9bc1-0e364b74ab33",
   "metadata": {
    "tags": []
   },
   "outputs": [],
   "source": [
    "def print_summary_statistics(counts, n=None):\n",
    "    if not n:\n",
    "        n = counts[\"n\"]\n",
    "    \n",
    "    name = counts[\"name\"]\n",
    "    percent = lambda x: (x / n) * 100\n",
    "    print(f\"---------------------------- {name} summary statistics ----------------------------\")\n",
    "\n",
    "    categories = [\n",
    "        (\"age ≤ 19\", counts[f\"{name}_incident_ado_count\"]),\n",
    "        (\"19 < age ≤ 40\", counts[f\"{name}_incident_mid_count2\"]),\n",
    "        (\"40 < age ≤ 60\", counts[f\"{name}_incident_meno_count2\"]),\n",
    "        (\"age unavailable\", counts[\"null_ages\"])\n",
    "    ]\n",
    "\n",
    "    print(f\"{'Age Category':<20} {'Count':<10} {'Percentage':<12}\")\n",
    "    print(\"-\" * 50)\n",
    "    \n",
    "    for category, count in categories:\n",
    "        print(f\"{category:<20} {count:<10} {percent(count):.2f}%\")\n",
    "        \n",
    "    print(\"--------------------------------------------------------------------------------\")\n",
    "    print(f\"{name} diagnoses over 60 (excluded): {counts[f'{name}_over60_count']}\")  \n",
    "    print(f\"total women with {name}: {n}\")\n",
    "    print(f\"average diagnosis age: {counts['avg_diagnosis_age']:.2f}\")\n"
   ]
  },
  {
   "cell_type": "code",
   "execution_count": 21,
   "id": "c65536ed-a866-4381-b88a-fa58c4a7742a",
   "metadata": {
    "tags": []
   },
   "outputs": [],
   "source": [
    "# plot age categorisation pie chart\n",
    "def plot_counts_pie_chart(counts):\n",
    "    name = counts[\"name\"]\n",
    "    percent = lambda x: (x / counts[\"n\"]) * 100\n",
    "\n",
    "    labels = [\"age ≤ 19\", \"19 < age ≤ 40\", \"40 < age ≤ 60\",  \"age unavailable\"]\n",
    "    frequencies = [\n",
    "        counts[f'{name}_incident_ado_count'],\n",
    "        counts[f'{name}_incident_mid_count2'],\n",
    "        counts[f'{name}_incident_meno_count2'],\n",
    "        counts['null_ages']\n",
    "    ]\n",
    "\n",
    "    colors = ['gold', 'lightblue', 'lightcoral', 'limegreen'] \n",
    "\n",
    "    plt.figure(figsize=(8, 6))\n",
    "    wedges, texts = plt.pie(\n",
    "        frequencies,\n",
    "        labels=None,        \n",
    "        colors=colors,\n",
    "        startangle=140,\n",
    "        wedgeprops={'edgecolor': 'black'}  \n",
    "    )\n",
    "\n",
    "    plt.legend(\n",
    "        labels=[f\"{label} ({percent(frequencies):.2f}%)\" for label, frequencies in zip(labels, frequencies)], \n",
    "        title=\"Age Groups\", \n",
    "        loc=\"center left\", \n",
    "        bbox_to_anchor=(1, 0.5), \n",
    "        fontsize=12,              \n",
    "        title_fontsize=14        \n",
    "    )\n",
    "\n",
    "    plt.title(f\"Age distribution for {name}\", fontsize=18)\n",
    "    plt.show()"
   ]
  },
  {
   "cell_type": "code",
   "execution_count": 22,
   "id": "cd0a42af-eebd-4087-94cc-68c13409e99e",
   "metadata": {
    "tags": []
   },
   "outputs": [],
   "source": [
    "hmb_phenotype_df_, hmb_counts = derive_variables(hmb_phenotype_df, \"hmb\")"
   ]
  },
  {
   "cell_type": "code",
   "execution_count": 23,
   "id": "5821bc0e-e7fb-47e5-b272-2cb7b4a2bf44",
   "metadata": {
    "tags": []
   },
   "outputs": [
    {
     "data": {
      "image/png": "[encoded data removed]",
      "text/plain": [
       "<Figure size 800x600 with 1 Axes>"
      ]
     },
     "metadata": {},
     "output_type": "display_data"
    },
    {
     "name": "stdout",
     "output_type": "stream",
     "text": [
      "---------------------------- hmb summary statistics ----------------------------\n",
      "Age Category         Count      Percentage  \n",
      "--------------------------------------------------\n",
      "age ≤ 19             72         0.24%\n",
      "19 < age ≤ 40        6536       22.04%\n",
      "40 < age ≤ 60        22704      76.56%\n",
      "age unavailable      343        1.16%\n",
      "--------------------------------------------------------------------------------\n",
      "hmb diagnoses over 60 (excluded): 114\n",
      "total women with hmb: 29655\n",
      "average diagnosis age: 44.69\n",
      "% of women with hmb: 10.86%\n"
     ]
    }
   ],
   "source": [
    "plot_counts_pie_chart(hmb_counts)\n",
    "print_summary_statistics(hmb_counts)\n",
    "print(f\"% of women with hmb: {((hmb_counts['n'] / 273157) * 100):.2f}%\")"
   ]
  },
  {
   "cell_type": "markdown",
   "id": "bb020d24-461c-4b45-b959-fc2e14e51506",
   "metadata": {
    "tags": []
   },
   "source": [
    "## Control group"
   ]
  },
  {
   "cell_type": "markdown",
   "id": "2f962eed-a1bb-45ec-a53c-82cfdc97f1c3",
   "metadata": {},
   "source": [
    "Control: Any females with EHR data"
   ]
  },
  {
   "cell_type": "code",
   "execution_count": 24,
   "id": "7bfe6b23-08e2-4f40-95c0-e18cd3b0656c",
   "metadata": {
    "tags": []
   },
   "outputs": [
    {
     "data": {
      "text/plain": [
       "245942"
      ]
     },
     "execution_count": 24,
     "metadata": {},
     "output_type": "execute_result"
    }
   ],
   "source": [
    "# filter female eids from all EHR tables\n",
    "filter_females = lambda df: females_df.join(df, on=\"eid\", how=\"inner\")\n",
    "\n",
    "# females with icd9 or icd10 codes\n",
    "icd_df = filter_females(ukb.spark.sql(f\"SELECT DISTINCT eid FROM `{ukb.database}`.`hesin_diag` WHERE diag_icd9 IS NOT NULL OR diag_icd10 IS NOT NULL\"))\n",
    "icd_df.count() # 245942"
   ]
  },
  {
   "cell_type": "code",
   "execution_count": 25,
   "id": "0a8e1d1a-626b-40fa-8c4a-f6719304ba8e",
   "metadata": {
    "tags": []
   },
   "outputs": [
    {
     "data": {
      "text/plain": [
       "125700"
      ]
     },
     "execution_count": 25,
     "metadata": {},
     "output_type": "execute_result"
    }
   ],
   "source": [
    "# females with gp clinical data\n",
    "gp_df = filter_females(ukb.spark.sql(f\"SELECT DISTINCT eid FROM `{ukb.database}`.`gp_clinical` WHERE read_2 IS NOT NULL OR read_3 IS NOT NULL\"))\n",
    "gp_df.count() # 125700"
   ]
  },
  {
   "cell_type": "code",
   "execution_count": 26,
   "id": "ff4c80c6-f098-47dd-b5a4-75470078f5a5",
   "metadata": {
    "tags": []
   },
   "outputs": [
    {
     "data": {
      "text/plain": [
       "18191"
      ]
     },
     "execution_count": 26,
     "metadata": {},
     "output_type": "execute_result"
    }
   ],
   "source": [
    "# females with death records\n",
    "death_df = filter_females(ukb.spark.sql(f\"SELECT DISTINCT eid FROM `{ukb.database}`.`death_cause` WHERE cause_icd10 IS NOT NULL\"))\n",
    "death_df.count() # 18191"
   ]
  },
  {
   "cell_type": "code",
   "execution_count": 27,
   "id": "b9ccf4c7-80d6-42c9-9fcb-ef5187cc55e2",
   "metadata": {
    "tags": []
   },
   "outputs": [
    {
     "data": {
      "text/plain": [
       "245197"
      ]
     },
     "execution_count": 27,
     "metadata": {},
     "output_type": "execute_result"
    }
   ],
   "source": [
    "# females with OPCS codes\n",
    "opcs_df = filter_females(ukb.spark.sql(f\"SELECT DISTINCT eid FROM `{ukb.database}`.`hesin_oper` WHERE oper3 IS NOT NULL OR oper4 IS NOT NULL\"))\n",
    "opcs_df.count() # 245197"
   ]
  },
  {
   "cell_type": "code",
   "execution_count": 28,
   "id": "8b22a91d-d1a1-44fa-9e85-d2eaf45fe77c",
   "metadata": {
    "tags": []
   },
   "outputs": [
    {
     "data": {
      "text/plain": [
       "63447"
      ]
     },
     "execution_count": 28,
     "metadata": {},
     "output_type": "execute_result"
    }
   ],
   "source": [
    "# females with cancer records\n",
    "case_statements = [f\"p40006_i{i} IS NOT NULL\" for i in range(22)]\n",
    "case_condition = \" OR \".join(case_statements)\n",
    "query = f\"SELECT DISTINCT eid FROM `{ukb.database}`.`participant_0073` WHERE {case_condition}\"\n",
    "cancer_df = filter_females(ukb.spark.sql(query))\n",
    "cancer_df.count() # 63447"
   ]
  },
  {
   "cell_type": "code",
   "execution_count": 29,
   "id": "d3806e57-a97f-42db-a3c2-1ae1b248d180",
   "metadata": {
    "tags": []
   },
   "outputs": [
    {
     "data": {
      "text/plain": [
       "258798"
      ]
     },
     "execution_count": 29,
     "metadata": {},
     "output_type": "execute_result"
    }
   ],
   "source": [
    "# join all EHR recorded females to make control DF\n",
    "control_df = icd_df.join(gp_df, on=\"eid\", how=\"outer\")\n",
    "control_df = control_df.join(death_df, on=\"eid\", how=\"outer\")\n",
    "control_df = control_df.join(opcs_df, on=\"eid\", how=\"outer\")\n",
    "control_df = control_df.join(cancer_df, on=\"eid\", how=\"outer\")\n",
    "control_df.count() # 258798"
   ]
  },
  {
   "cell_type": "markdown",
   "id": "80367daa-b0fe-44a9-8a52-81ffacba5c17",
   "metadata": {},
   "source": [
    "## HMB phenotype with control"
   ]
  },
  {
   "cell_type": "code",
   "execution_count": 30,
   "id": "b68706ed-ea36-4010-b859-2e3092b53541",
   "metadata": {
    "tags": []
   },
   "outputs": [
    {
     "data": {
      "text/plain": [
       "258908"
      ]
     },
     "execution_count": 30,
     "metadata": {},
     "output_type": "execute_result"
    }
   ],
   "source": [
    "hmb_final_df = control_df.join(hmb_phenotype_df_, on=\"eid\", how=\"outer\")\n",
    "hmb_final_df = hmb_final_df.withColumn(\"hmb_ever\", F.when(F.col(\"hmb_ever\").isNull(), F.lit(0)).otherwise(F.col(\"hmb_ever\")))\n",
    "hmb_final_df = hmb_final_df.withColumnRenamed(\"diagnosis_age\", \"hmb_diagnosis_age\")\n",
    "hmb_final_df = hmb_final_df.select(*[\"eid\", \"hmb_ever\", \"hmb_diagnosis_age\", \"hmb_incident_ado\", \"hmb_incident_mid2\", \"hmb_incident_meno2\", \"hmb_over60\"])\n",
    "hmb_final_df.count()"
   ]
  },
  {
   "cell_type": "markdown",
   "id": "96ab8e04",
   "metadata": {
    "tags": []
   },
   "source": [
    "# Menstrual Pain (MP) phenotype"
   ]
  },
  {
   "cell_type": "markdown",
   "id": "e13cd1b1-8868-405d-9d73-b582ef5e7ebe",
   "metadata": {
    "tags": []
   },
   "source": [
    "## Self-report questionnaire"
   ]
  },
  {
   "cell_type": "markdown",
   "id": "1d2f657b-67ee-4178-8e48-06505a2a8689",
   "metadata": {},
   "source": [
    "- p21050 found in participant_0042             \n",
    "- p21026 found in participant_0042        \n",
    "   "
   ]
  },
  {
   "cell_type": "markdown",
   "id": "d3687cdb-251e-4f34-95ee-7b2888f77add",
   "metadata": {},
   "source": [
    "Self-report questionnaire (available for MP only - not HMB)         \n",
    "• 21050: During the past 3 months, how much have you been bothered by menstrual cramps or other problems with your periods? [n bothered a lot =1083]            \n",
    "-600\tNot bothered at all       \n",
    "-601\tBothered a little       \n",
    "-602\tBothered a lot         \n",
    "-818\tPrefer not to answer         \n",
    "-313\tNot applicable         \n",
    "\n",
    "• 21026: Did this discomfort or pain occur only during your menstrual bleeding and not at other times? [n yes =1121]          \n",
    "1\tYes    \n",
    "0\tNo     \n",
    "-818\tPrefer not to answer     \n",
    "-313\tNot applicable         \n",
    "\n",
    "Participants answering “bothered a lot” to 21050 and “yes” to 21026 should be coded as a case!          "
   ]
  },
  {
   "cell_type": "code",
   "execution_count": 32,
   "id": "72294fe8-e8fa-4b91-9e60-29280399e6ba",
   "metadata": {
    "tags": []
   },
   "outputs": [],
   "source": [
    "# menstrual pain self report variable\n",
    "query = f\"SELECT eid, p21050, p21026 FROM `{ukb.database}`.`participant_0042` WHERE p21050 == -602 AND p21026 == 1\"\n",
    "mp_selfrep_df = ukb.spark.sql(query)\n",
    "mp_selfrep_df = mp_selfrep_df.select(\"eid\")"
   ]
  },
  {
   "cell_type": "markdown",
   "id": "82e5ea34-a4c7-4158-992d-4f8093022d0a",
   "metadata": {
    "tags": []
   },
   "source": [
    "## Mefenamic acid"
   ]
  },
  {
   "cell_type": "markdown",
   "id": "a8497bd9-ce0e-4dd7-b34d-e614f9186610",
   "metadata": {},
   "source": [
    "Mefenamic acid code = 1140871542"
   ]
  },
  {
   "cell_type": "code",
   "execution_count": 33,
   "id": "5b8f7ec6-be12-451c-b2f0-eeb7976c2c99",
   "metadata": {
    "tags": []
   },
   "outputs": [],
   "source": [
    "# all fields potentially containing a treatment code\n",
    "columns = [f\"p20003_i{i}_a{a}\" for i in range(4) for a in range(48)]\n",
    "\n",
    "# extract eids with treatment code for mefenamic acid\n",
    "query = f\"SELECT DISTINCT eid FROM `{ukb.database}`.`participant_0032` WHERE {' OR '.join([f'{col} = 1140871542' for col in columns])}\"\n",
    "\n",
    "mefenamic_df = ukb.spark.sql(query)"
   ]
  },
  {
   "cell_type": "markdown",
   "id": "48776694-140a-4ca7-83fb-1f51850f1f86",
   "metadata": {},
   "source": [
    "## ICD0, ICD10, Read2 and CTV3 Codes"
   ]
  },
  {
   "cell_type": "code",
   "execution_count": 34,
   "id": "60e3d867-6dde-4dcf-84f6-d4ed63e23c24",
   "metadata": {
    "tags": []
   },
   "outputs": [
    {
     "name": "stdout",
     "output_type": "stream",
     "text": [
      "Searching 1 ICD9 codes...\n",
      "Operation complete: Found 313 matching records in 8.86 seconds.\n"
     ]
    }
   ],
   "source": [
    "icd9 = [\"6253\"]  # dysmenorrhoea\n",
    "mp_icd9 = ukb.get_icd9(icd9)"
   ]
  },
  {
   "cell_type": "code",
   "execution_count": 35,
   "id": "57e6314d-e7b7-4999-a1fc-000b168e7ffa",
   "metadata": {
    "tags": []
   },
   "outputs": [],
   "source": [
    "ICD10 = [\n",
    "    \"N94.4\",  # primary dysmenorrhoea\n",
    "    \"N94.5\",  # secondary dysmenorrhoea\n",
    "    \"N94.6\"   # dysmenorrhoea, unspecified\n",
    "]\n",
    "mp_icd10_hesin = ukb.get_icd10_hesin(ICD10)"
   ]
  },
  {
   "cell_type": "code",
   "execution_count": 36,
   "id": "4de2e86b-898f-4d7f-b195-527f5cd5264a",
   "metadata": {
    "tags": []
   },
   "outputs": [],
   "source": [
    "Read2 = [\n",
    "    \"Eu45y11\",  # psychogenic dysmenorrhoea\n",
    "    \"K583.00\",  # dysmenorrhoea\n",
    "    \"1574.00\",  # h/o: dysmenorrhoea\n",
    "    \"1574.11\",  # h/o: painful periods\n",
    "    \"K583.11\",  # painful menorrhoea\n",
    "    \"K583.12\",  # painful menstruation\n",
    "    \"K583.13\",  # period pains\n",
    "    \"K583000\",  # primary dysmenorrhoea\n",
    "    \"E265200\",  # psychogenic dysmenorrhea\n",
    "    \"K583100\",  # secondary dysmenorrhoea\n",
    "    \"K583.14\"   # spasmodic dysmenorrhoea\n",
    "]"
   ]
  },
  {
   "cell_type": "code",
   "execution_count": 37,
   "id": "c46afcc5-61f2-48aa-876c-1e53e2b3b673",
   "metadata": {
    "tags": []
   },
   "outputs": [
    {
     "name": "stdout",
     "output_type": "stream",
     "text": [
      "Searching 11 Read2/CTV3 codes...\n",
      "Operation complete: Found 1510 matching records in 5.46 seconds.\n"
     ]
    }
   ],
   "source": [
    "mp_gp_clinical = ukb.get_gp_clinical(Read2)"
   ]
  },
  {
   "cell_type": "markdown",
   "id": "4b783bdf-0b47-40c8-ab21-939c2aec3a49",
   "metadata": {
    "tags": []
   },
   "source": [
    "## Final MP phenotype"
   ]
  },
  {
   "cell_type": "code",
   "execution_count": 38,
   "id": "ad14731c-5994-42ee-bcc5-e2c8feb831d2",
   "metadata": {
    "tags": []
   },
   "outputs": [],
   "source": [
    "# join all dates entries into one table\n",
    "all_dates_df = mp_icd9.join(mp_icd10_hesin.withColumnRenamed(\"diagnosis_date\", \"icd10_diagnosis_date\"), on=\"eid\", how=\"outer\")\n",
    "all_dates_df = all_dates_df.join(mp_gp_clinical, on=\"eid\", how=\"outer\")"
   ]
  },
  {
   "cell_type": "code",
   "execution_count": 39,
   "id": "d7decf57-24f6-4e24-b870-b6c9373d2581",
   "metadata": {
    "tags": []
   },
   "outputs": [],
   "source": [
    "# get the earliest date across all fields\n",
    "first_date_df = all_dates_df.withColumn('first_diagnosis_date', F.least(F.col('diagnosis_date'), F.col('icd10_diagnosis_date'), F.col('event_dt')))\n",
    "first_date_df = first_date_df.select(\"eid\", F.year(\"first_diagnosis_date\").alias(\"first_diagnosis_date\"))"
   ]
  },
  {
   "cell_type": "code",
   "execution_count": 40,
   "id": "147bf2ce-00c8-42c5-b186-08fc5dc152e8",
   "metadata": {
    "tags": []
   },
   "outputs": [],
   "source": [
    "# join dobs with first diagnosis dates\n",
    "dates_to_ages_df = first_date_df.join(dob_df, on=\"eid\", how=\"inner\")\n",
    "\n",
    "# subtract date of birth from diagnosis date to get age at diagnosis\n",
    "dates_to_ages_df = dates_to_ages_df.withColumn(\n",
    "    \"first_diagnosis_age_unfiltered\", \n",
    "    dates_to_ages_df[\"first_diagnosis_date\"] - dates_to_ages_df[\"p34\"]\n",
    ")\n",
    "\n",
    "# replace ages <= 0 with null in a column \n",
    "dates_to_ages_df = dates_to_ages_df.withColumn(\n",
    "    'diagnosis_age',\n",
    "    F.when(F.col('first_diagnosis_age_unfiltered') <= 0, F.lit(None))  # if value <= 0, set it to null\n",
    "    .otherwise(F.col('first_diagnosis_age_unfiltered'))                # otherwise keep the original value\n",
    ")\n",
    "\n",
    "all_ages_df = dates_to_ages_df.select(\"eid\", \"diagnosis_age\")"
   ]
  },
  {
   "cell_type": "code",
   "execution_count": 41,
   "id": "2cbd9684-2706-4f02-9b03-77be15c992a5",
   "metadata": {
    "tags": []
   },
   "outputs": [],
   "source": [
    "# finally join mefenamic acid and self reoport participants (for whom no dates available)\n",
    "mp_phenotype_df = all_ages_df.join(mefenamic_df, on=\"eid\", how=\"outer\")\n",
    "mp_phenotype_df = mp_phenotype_df.join(mp_selfrep_df, on=\"eid\", how=\"outer\")"
   ]
  },
  {
   "cell_type": "markdown",
   "id": "2b89b116-843a-456f-a862-1b15f206b4db",
   "metadata": {
    "tags": []
   },
   "source": [
    "## Filtering female participants only"
   ]
  },
  {
   "cell_type": "code",
   "execution_count": 42,
   "id": "0c640970-bbaa-4810-b687-9fc4495566a8",
   "metadata": {
    "tags": []
   },
   "outputs": [],
   "source": [
    "mp_phenotype_df = females_df.join(mp_phenotype_df, on=\"eid\", how=\"inner\")"
   ]
  },
  {
   "cell_type": "markdown",
   "id": "96d2d32e-c2d9-4947-b08a-14c6e7134158",
   "metadata": {
    "tags": []
   },
   "source": [
    "## Deriving MP variables"
   ]
  },
  {
   "cell_type": "markdown",
   "id": "14c62faa-ad00-4d59-969e-461e27deb0d7",
   "metadata": {},
   "source": [
    "Derived variables         \n",
    "• mp_ever <- any diagnosis ever recorded vs no diagnosis ever recorded        \n",
    "• mp_incident_ado <- any diagnosis before or equal to age 19 vs no diagnosis before or equal to age 19         \n",
    "• mp_incident_mid <- any diagnosis between age 20-44 (inclusive) vs no diagnosis between age 20-44 (inclusive)      \n",
    "• mp_incident_meno <- any diagnosis between age 45-60 (inclusive) vs no diagnosis between age 45-60 (inclusive)      \n",
    "\n"
   ]
  },
  {
   "cell_type": "code",
   "execution_count": 43,
   "id": "f281d937-2c9e-4e9b-b205-de7597f950dd",
   "metadata": {
    "tags": []
   },
   "outputs": [],
   "source": [
    "mp_phenotype_df_, mp_counts = derive_variables(mp_phenotype_df, \"mp\")"
   ]
  },
  {
   "cell_type": "code",
   "execution_count": 69,
   "id": "6e82a497-3572-4cf0-b3a6-b67feae5fa27",
   "metadata": {
    "tags": []
   },
   "outputs": [
    {
     "data": {
      "image/png": "[encoded data removed]",
      "text/plain": [
       "<Figure size 800x600 with 1 Axes>"
      ]
     },
     "metadata": {},
     "output_type": "display_data"
    },
    {
     "name": "stdout",
     "output_type": "stream",
     "text": [
      "---------------------------- mp summary statistics ----------------------------\n",
      "Age Category         Count      Percentage  \n",
      "--------------------------------------------------\n",
      "age ≤ 19             100        2.31%\n",
      "19 < age ≤ 40        1291       29.85%\n",
      "40 < age ≤ 60        2215       51.21%\n",
      "age unavailable      719        16.62%\n",
      "--------------------------------------------------------------------------------\n",
      "mp diagnoses over 60 (excluded): 20\n",
      "total women with mp: 4325\n",
      "average diagnosis age: 41.14\n",
      "% of women with mp: 1.58%\n"
     ]
    }
   ],
   "source": [
    "plot_counts_pie_chart(mp_counts)\n",
    "print_summary_statistics(mp_counts)\n",
    "print(f\"% of women with mp: {((mp_counts['n'] / 273157) * 100):.2f}%\")"
   ]
  },
  {
   "cell_type": "markdown",
   "id": "5bc308ce-e411-4bf3-9f5c-f85f58fa2339",
   "metadata": {},
   "source": [
    "## MP phenotype with control group"
   ]
  },
  {
   "cell_type": "code",
   "execution_count": 45,
   "id": "e08a20ca-5bde-48f4-8c11-fe0d4ba19a12",
   "metadata": {
    "tags": []
   },
   "outputs": [
    {
     "data": {
      "text/plain": [
       "258842"
      ]
     },
     "execution_count": 45,
     "metadata": {},
     "output_type": "execute_result"
    }
   ],
   "source": [
    "mp_final_df = control_df.join(mp_phenotype_df_, on=\"eid\", how=\"outer\")\n",
    "mp_final_df = mp_final_df.withColumn(\"mp_ever\", F.when(F.col(\"mp_ever\").isNull(), F.lit(0)).otherwise(F.col(\"mp_ever\")))\n",
    "mp_final_df = mp_final_df.withColumnRenamed(\"diagnosis_age\", \"mp_diagnosis_age\")\n",
    "mp_final_df = mp_final_df.select(*[\"eid\", \"mp_ever\", \"mp_diagnosis_age\", \"mp_incident_ado\", \"mp_incident_mid2\", \"mp_incident_meno2\", \"mp_over60\"])\n",
    "mp_final_df.count()"
   ]
  },
  {
   "cell_type": "markdown",
   "id": "a64519be-1842-4ed2-8cb4-3499ec7dd76e",
   "metadata": {},
   "source": [
    "# Final HMB and MP phenotype "
   ]
  },
  {
   "cell_type": "code",
   "execution_count": 46,
   "id": "3387decd-6a39-4d34-90b2-8d56b17770d1",
   "metadata": {
    "tags": []
   },
   "outputs": [
    {
     "data": {
      "text/plain": [
       "258949"
      ]
     },
     "execution_count": 46,
     "metadata": {},
     "output_type": "execute_result"
    }
   ],
   "source": [
    "final_phenotype_df = hmb_final_df.join(mp_final_df, on=\"eid\", how=\"outer\")\n",
    "final_phenotype_df.count()"
   ]
  },
  {
   "cell_type": "code",
   "execution_count": 47,
   "id": "7f2ae28a-9818-421f-a26e-94f38f82f3df",
   "metadata": {
    "tags": []
   },
   "outputs": [
    {
     "data": {
      "text/plain": [
       "502131"
      ]
     },
     "execution_count": 47,
     "metadata": {},
     "output_type": "execute_result"
    }
   ],
   "source": [
    "query = f\"SELECT DISTINCT eid FROM `{ukb.database}`.`participant_0001`\"\n",
    "whole_cohort = ukb.spark.sql(query)\n",
    "whole_cohort.count()"
   ]
  },
  {
   "cell_type": "code",
   "execution_count": 48,
   "id": "ed1ade75-b46f-45be-a072-09969bc96e9d",
   "metadata": {
    "tags": []
   },
   "outputs": [
    {
     "data": {
      "text/plain": [
       "502131"
      ]
     },
     "execution_count": 48,
     "metadata": {},
     "output_type": "execute_result"
    }
   ],
   "source": [
    "# join the entire cohort (inc. males)\n",
    "final_phenotype_df = final_phenotype_df.join(whole_cohort, on=\"eid\", how=\"outer\")\n",
    "final_phenotype_df.count()"
   ]
  },
  {
   "cell_type": "code",
   "execution_count": null,
   "id": "c8df01be-e080-4e59-b8b2-aab3bd37f5c5",
   "metadata": {
    "tags": []
   },
   "outputs": [],
   "source": [
    "from pyspark.sql.functions import col\n",
    "\n",
    "# redundancy check: filter out withdrawn participants\n",
    "with open(\"withdrawn_participants.csv\", \"r\") as f:\n",
    "    withdrawn_eids = set(f.read().splitlines())\n",
    "\n",
    "final_phenotype_df = final_phenotype_df.filter(~col(\"eid\").isin(withdrawn_eids))\n",
    "final_phenotype_df.show()\n",
    "final_phenotype_df.count()"
   ]
  },
  {
   "cell_type": "markdown",
   "id": "8ac6a022-af68-4891-8f21-24fc75a8ac4e",
   "metadata": {},
   "source": [
    "Final conversion to correct file format for GWAS"
   ]
  },
  {
   "cell_type": "code",
   "execution_count": null,
   "id": "e5e69dd9-affe-425f-9037-8a93fbd5028c",
   "metadata": {
    "tags": []
   },
   "outputs": [],
   "source": [
    "import pandas as pd\n",
    "\n",
    "# final conversion to pandas dataframe\n",
    "hmb_gwas = final_phenotype_df.select(\"eid\", \"hmb_ever\")\n",
    "hmb_pdf = hmb_gwas.toPandas()\n",
    "hmb_pdf.columns = [\"FID\", \"hmb_ever\"]\n",
    "hmb_pdf[\"IID\"] = hmb_pdf[\"FID\"]\n",
    "\n",
    "# convert hmb_ever to 0, 1, or NA\n",
    "hmb_pdf[\"hmb_ever\"] = hmb_pdf[\"hmb_ever\"].apply(\n",
    "    lambda x: \"NA\" if pd.isnull(x) else int(x)\n",
    ")\n",
    "\n",
    "hmb_pdf = hmb_pdf[[\"FID\", \"IID\", \"hmb_ever\"]]\n",
    "print(hmb_pdf.head())"
   ]
  },
  {
   "cell_type": "code",
   "execution_count": 51,
   "id": "ce308af7-f586-40ae-a471-3c344074eef5",
   "metadata": {
    "tags": []
   },
   "outputs": [
    {
     "name": "stdout",
     "output_type": "stream",
     "text": [
      "hmb_phenotype.tsv saved successfully\n"
     ]
    }
   ],
   "source": [
    "def write_df_to_file(pdf, filename):\n",
    "    pdf.to_csv(filename, sep=\"\\t\", index=False, encoding=\"utf-8\")\n",
    "    print(f\"{filename} saved successfully\")\n",
    "    \n",
    "write_df_to_file(hmb_pdf, \"hmb_phenotype.tsv\")"
   ]
  },
  {
   "cell_type": "code",
   "execution_count": null,
   "id": "940e5b68-e33e-45cb-99a0-b418345c96c2",
   "metadata": {
    "tags": []
   },
   "outputs": [],
   "source": [
    "# final conversion to pandas dataframe\n",
    "mp_gwas = final_phenotype_df.select(\"eid\", \"mp_ever\")\n",
    "mp_pdf = mp_gwas.toPandas()\n",
    "mp_pdf.columns = [\"FID\", \"mp_ever\"]\n",
    "mp_pdf[\"IID\"] = mp_pdf[\"FID\"]\n",
    "\n",
    "# convert mp_ever to 0, 1, or NA\n",
    "mp_pdf[\"mp_ever\"] = mp_pdf[\"mp_ever\"].apply(\n",
    "    lambda x: \"NA\" if pd.isnull(x) else int(x)\n",
    ")\n",
    "\n",
    "mp_pdf = mp_pdf[[\"FID\", \"IID\", \"mp_ever\"]]\n",
    "print(mp_pdf.head())"
   ]
  },
  {
   "cell_type": "code",
   "execution_count": 53,
   "id": "4cc3f7cb-e398-4db8-955a-113289f8564b",
   "metadata": {
    "tags": []
   },
   "outputs": [
    {
     "name": "stdout",
     "output_type": "stream",
     "text": [
      "mp_phenotype.tsv saved successfully\n"
     ]
    }
   ],
   "source": [
    "write_df_to_file(mp_pdf, \"mp_phenotype.tsv\")"
   ]
  },
  {
   "cell_type": "code",
   "execution_count": null,
   "id": "ca5180c4-9393-4184-a860-fdc5cd8352eb",
   "metadata": {},
   "outputs": [],
   "source": []
  },
  {
   "cell_type": "markdown",
   "id": "d7512726-ce9b-453d-a31d-efd82705974c",
   "metadata": {},
   "source": [
    "## Removing existing conditions for sensitivity analysis"
   ]
  },
  {
   "cell_type": "markdown",
   "id": "afebaa1f-84e1-425e-8ab9-8ecdb960def2",
   "metadata": {},
   "source": [
    "Collecting participants with exclusion criteria for sensitivity analysis:"
   ]
  },
  {
   "cell_type": "code",
   "execution_count": 54,
   "id": "fcd2b607-6b29-464f-92f7-1f18783b9cf0",
   "metadata": {
    "tags": []
   },
   "outputs": [],
   "source": [
    "filter_females = lambda df: females_df.join(df, on=\"eid\", how=\"inner\")"
   ]
  },
  {
   "cell_type": "code",
   "execution_count": 55,
   "id": "d514de16-7ba9-45c2-87ce-82c732e79553",
   "metadata": {
    "tags": []
   },
   "outputs": [
    {
     "name": "stdout",
     "output_type": "stream",
     "text": [
      "Searching 9 ICD10 codes...\n",
      "Found 3353 matching hospital records\n",
      "Found 1 matching death records\n",
      "Found 0 matching cancer records\n",
      "Operation complete: Found 3353 matching records in 26.31 seconds.\n"
     ]
    },
    {
     "data": {
      "text/plain": [
       "3353"
      ]
     },
     "execution_count": 55,
     "metadata": {},
     "output_type": "execute_result"
    }
   ],
   "source": [
    "icd10s = [f\"N80.{i}\" for i in range(1,10)] # Endometriosis N80.1 – N80.9\n",
    "endometriosis_df = ukb.get_icd10(icd10s)\n",
    "endometriosis_df = filter_females(endometriosis_df).select(\"eid\")\n",
    "endometriosis_df.count()"
   ]
  },
  {
   "cell_type": "code",
   "execution_count": 56,
   "id": "a9c79221-bfb0-48c1-8ac3-7a763b67d08f",
   "metadata": {
    "tags": []
   },
   "outputs": [
    {
     "name": "stdout",
     "output_type": "stream",
     "text": [
      "Searching 1 ICD10 codes...\n",
      "Found 444 matching hospital records\n",
      "Found 0 matching death records\n",
      "Found 0 matching cancer records\n",
      "Operation complete: Found 444 matching records in 26.91 seconds.\n"
     ]
    },
    {
     "data": {
      "text/plain": [
       "442"
      ]
     },
     "execution_count": 56,
     "metadata": {},
     "output_type": "execute_result"
    }
   ],
   "source": [
    "icd10s = [\"E28.2\"] # Polycystic Ovary Syndrome E28.2\n",
    "POS_df = ukb.get_icd10(icd10s)\n",
    "POS_df = filter_females(POS_df).select(\"eid\")\n",
    "POS_df.count()"
   ]
  },
  {
   "cell_type": "code",
   "execution_count": 57,
   "id": "c7aff674-7f67-4cfd-b2cc-ecb5760cce19",
   "metadata": {
    "tags": []
   },
   "outputs": [
    {
     "name": "stdout",
     "output_type": "stream",
     "text": [
      "Searching 10 ICD10 codes...\n",
      "Found 15764 matching hospital records\n",
      "Found 1 matching death records\n",
      "Found 0 matching cancer records\n",
      "Operation complete: Found 15764 matching records in 24.33 seconds.\n"
     ]
    },
    {
     "data": {
      "text/plain": [
       "15763"
      ]
     },
     "execution_count": 57,
     "metadata": {},
     "output_type": "execute_result"
    }
   ],
   "source": [
    "icd10s = [f\"D25.{i}\" for i in range(10)]  # Uterine Leiomyoma D25\n",
    "uterine_leiomyoma_df = ukb.get_icd10(icd10s)\n",
    "uterine_leiomyoma_df = filter_females(uterine_leiomyoma_df).select(\"eid\")\n",
    "uterine_leiomyoma_df.count()"
   ]
  },
  {
   "cell_type": "code",
   "execution_count": 58,
   "id": "516f6050-b467-496a-9292-6c39a71ee44c",
   "metadata": {
    "tags": []
   },
   "outputs": [
    {
     "name": "stdout",
     "output_type": "stream",
     "text": [
      "Searching 1 ICD10 codes...\n",
      "Found 12171 matching hospital records\n",
      "Found 0 matching death records\n",
      "Found 0 matching cancer records\n",
      "Operation complete: Found 12171 matching records in 26.01 seconds.\n"
     ]
    },
    {
     "data": {
      "text/plain": [
       "12171"
      ]
     },
     "execution_count": 58,
     "metadata": {},
     "output_type": "execute_result"
    }
   ],
   "source": [
    "icd10s = [\"N84.0\"] # Uterine Polyps N84.0\n",
    "uterine_polyps_df = ukb.get_icd10(icd10s)\n",
    "uterine_polyps_df = filter_females(uterine_polyps_df).select(\"eid\")\n",
    "uterine_polyps_df.count()"
   ]
  },
  {
   "cell_type": "code",
   "execution_count": 59,
   "id": "0d0f72e3-4ac2-49c3-a33d-5abecd1add92",
   "metadata": {
    "tags": []
   },
   "outputs": [
    {
     "name": "stdout",
     "output_type": "stream",
     "text": [
      "Searching 1 ICD10 codes...\n",
      "Found 2692 matching hospital records\n",
      "Found 0 matching death records\n",
      "Found 0 matching cancer records\n",
      "Operation complete: Found 2692 matching records in 25.44 seconds.\n"
     ]
    },
    {
     "data": {
      "text/plain": [
       "2692"
      ]
     },
     "execution_count": 59,
     "metadata": {},
     "output_type": "execute_result"
    }
   ],
   "source": [
    "icd10s = [\"N80.0\"] # Adenomyosis N80.0\n",
    "adenomyosis_df = ukb.get_icd10(icd10s)\n",
    "adenomyosis_df = filter_females(adenomyosis_df).select(\"eid\")\n",
    "adenomyosis_df.count()"
   ]
  },
  {
   "cell_type": "code",
   "execution_count": 60,
   "id": "0b514391-0373-4a5e-9c7d-30cbed87ed04",
   "metadata": {
    "tags": []
   },
   "outputs": [
    {
     "name": "stdout",
     "output_type": "stream",
     "text": [
      "Searching 80 ICD10 codes...\n",
      "Found 8113 matching hospital records\n",
      "Found 9 matching death records\n",
      "Found 0 matching cancer records\n",
      "Operation complete: Found 8118 matching records in 26.01 seconds.\n"
     ]
    },
    {
     "data": {
      "text/plain": [
       "8114"
      ]
     },
     "execution_count": 60,
     "metadata": {},
     "output_type": "execute_result"
    }
   ],
   "source": [
    "icd10s = [f\"N7{i}.{a}\" for i in range(8) for a in range(10)] # Pelvic Inflammatory Disease N70 – N77\n",
    "PID_df = ukb.get_icd10(icd10s)\n",
    "PID_df = filter_females(PID_df).select(\"eid\")\n",
    "PID_df.count()"
   ]
  },
  {
   "cell_type": "code",
   "execution_count": 61,
   "id": "dc5104c2-ba33-48ef-b47e-8b03f59d1265",
   "metadata": {
    "tags": []
   },
   "outputs": [],
   "source": [
    "excluded_df = endometriosis_df.join(POS_df, on=\"eid\", how=\"outer\")\n",
    "excluded_df = excluded_df.join(uterine_leiomyoma_df, on=\"eid\", how=\"outer\")\n",
    "excluded_df = excluded_df.join(uterine_polyps_df, on=\"eid\", how=\"outer\")\n",
    "excluded_df = excluded_df.join(adenomyosis_df, on=\"eid\", how=\"outer\")\n",
    "excluded_df = excluded_df.join(PID_df, on=\"eid\", how=\"outer\")"
   ]
  },
  {
   "cell_type": "code",
   "execution_count": 62,
   "id": "eab47b2b-e80b-4d5e-8fd7-ab721606aeda",
   "metadata": {
    "tags": []
   },
   "outputs": [
    {
     "data": {
      "text/plain": [
       "33739"
      ]
     },
     "execution_count": 62,
     "metadata": {},
     "output_type": "execute_result"
    }
   ],
   "source": [
    "excluded_df.count()"
   ]
  },
  {
   "cell_type": "markdown",
   "id": "25216633-2c13-47dc-93f9-77ebd658e155",
   "metadata": {},
   "source": [
    "Excluding participants and deriving variables:"
   ]
  },
  {
   "cell_type": "code",
   "execution_count": 65,
   "id": "4c0859ab-7c1f-4cfd-8365-e90b2e694965",
   "metadata": {
    "tags": []
   },
   "outputs": [
    {
     "data": {
      "text/plain": [
       "20218"
      ]
     },
     "execution_count": 65,
     "metadata": {},
     "output_type": "execute_result"
    }
   ],
   "source": [
    "excluded_hmb_phenotype_df = hmb_phenotype_df.join(excluded_df, on=\"eid\", how=\"anti\")\n",
    "excluded_hmb_phenotype_df.count()"
   ]
  },
  {
   "cell_type": "code",
   "execution_count": 66,
   "id": "8149566e-7404-4400-b558-a4884cbd26ea",
   "metadata": {
    "tags": []
   },
   "outputs": [
    {
     "data": {
      "text/plain": [
       "2861"
      ]
     },
     "execution_count": 66,
     "metadata": {},
     "output_type": "execute_result"
    }
   ],
   "source": [
    "excluded_mp_phenotype_df = mp_phenotype_df.join(excluded_df, on=\"eid\", how=\"anti\")\n",
    "excluded_mp_phenotype_df.count()"
   ]
  },
  {
   "cell_type": "code",
   "execution_count": 67,
   "id": "a1785255-e309-4f85-9e92-aaeda8df6eac",
   "metadata": {
    "tags": []
   },
   "outputs": [
    {
     "name": "stdout",
     "output_type": "stream",
     "text": [
      "---------------------------- hmb_excluded summary statistics ----------------------------\n",
      "Age Category         Count      Percentage  \n",
      "--------------------------------------------------\n",
      "age ≤ 19             60         0.30%\n",
      "19 < age ≤ 40        4845       24.04%\n",
      "40 < age ≤ 60        14969      74.26%\n",
      "age unavailable      283        1.40%\n",
      "--------------------------------------------------------------------------------\n",
      "hmb_excluded diagnoses over 60 (excluded): 61\n",
      "total women with hmb_excluded: 20157\n",
      "average diagnosis age: 44.22\n"
     ]
    }
   ],
   "source": [
    "excluded_hmb_phenotype_df_, excluded_hmb_counts = derive_variables(excluded_hmb_phenotype_df, \"hmb_excluded\")\n",
    "print_summary_statistics(excluded_hmb_counts)"
   ]
  },
  {
   "cell_type": "code",
   "execution_count": 68,
   "id": "523fac6a-33a0-4ad9-976f-42ace66261e2",
   "metadata": {
    "tags": []
   },
   "outputs": [
    {
     "name": "stdout",
     "output_type": "stream",
     "text": [
      "---------------------------- mp_excluded summary statistics ----------------------------\n",
      "Age Category         Count      Percentage  \n",
      "--------------------------------------------------\n",
      "age ≤ 19             87         3.06%\n",
      "19 < age ≤ 40        917        32.23%\n",
      "40 < age ≤ 60        1312       46.12%\n",
      "age unavailable      529        18.59%\n",
      "--------------------------------------------------------------------------------\n",
      "mp_excluded diagnoses over 60 (excluded): 16\n",
      "total women with mp_excluded: 2845\n",
      "average diagnosis age: 40.19\n"
     ]
    }
   ],
   "source": [
    "excluded_mp_phenotype_df_, excluded_mp_counts = derive_variables(excluded_mp_phenotype_df, \"mp_excluded\")\n",
    "print_summary_statistics(excluded_mp_counts)"
   ]
  },
  {
   "cell_type": "code",
   "execution_count": null,
   "id": "a9ddcab3-da40-440b-9870-15a0160a381c",
   "metadata": {},
   "outputs": [],
   "source": []
  },
  {
   "cell_type": "code",
   "execution_count": null,
   "id": "727a7e69-1275-43ab-a9f6-00be05de9689",
   "metadata": {},
   "outputs": [],
   "source": []
  },
  {
   "cell_type": "code",
   "execution_count": null,
   "id": "eddfc874-1b04-4abc-8d63-42ba2ace4e1f",
   "metadata": {},
   "outputs": [],
   "source": []
  },
  {
   "cell_type": "markdown",
   "id": "635577cd-bb26-472d-ba48-bade9fcd5dcf",
   "metadata": {},
   "source": [
    "## Final summary statistics"
   ]
  },
  {
   "cell_type": "markdown",
   "id": "1328780d-0c94-484f-8dc8-37c8c0815aba",
   "metadata": {},
   "source": [
    "Both <- hmb_ever==1 AND mp_ever==1\n",
    "\n",
    "HMBonly <- hmb_ever==1 AND mp_ever==0\n",
    "\n",
    "MPonly <- hmb_ever==0 AND mp_ever==1\n",
    "\n",
    "Neither <- hmb_ever==0 AND mp_ever==0\n",
    "\n",
    "If either hmb_ever or mp_ever is missing, the participant can be coded as missing for this variable."
   ]
  },
  {
   "cell_type": "code",
   "execution_count": 70,
   "id": "ba670a51-41bb-4118-aaf9-2e95285353c9",
   "metadata": {
    "tags": []
   },
   "outputs": [],
   "source": [
    "final_summary_stats = (\n",
    "    final_phenotype_df.agg(\n",
    "        F.sum(\n",
    "            F.when((F.col(\"hmb_ever\") == 1) & (F.col(\"mp_ever\") == 1), 1).otherwise(0),\n",
    "        ).alias(\"both\"),\n",
    "        F.sum(\n",
    "            F.when((F.col(\"hmb_ever\") == 1) & (F.col(\"mp_ever\") == 0), 1).otherwise(0),\n",
    "        ).alias(\"hmb_only\"),\n",
    "        F.sum(\n",
    "            F.when((F.col(\"hmb_ever\") == 0) & (F.col(\"mp_ever\") == 1), 1).otherwise(0),\n",
    "        ).alias(\"mp_only\"),\n",
    "        F.sum(\n",
    "            F.when((F.col(\"hmb_ever\") == 0) & (F.col(\"mp_ever\") == 0), 1).otherwise(0),\n",
    "        ).alias(\"neither\"),\n",
    "    )\n",
    "    .collect()[0]\n",
    "    .asDict()\n",
    ")"
   ]
  },
  {
   "cell_type": "code",
   "execution_count": 71,
   "id": "8f878503-b1c8-4d84-8d03-77ba7bad2bc1",
   "metadata": {
    "tags": []
   },
   "outputs": [
    {
     "name": "stdout",
     "output_type": "stream",
     "text": [
      "both: 2578\n",
      "hmb_only: 26971\n",
      "mp_only: 1706\n",
      "neither: 227546\n"
     ]
    }
   ],
   "source": [
    "for key, value in final_summary_stats.items():\n",
    "    print(f\"{key}: {value}\")"
   ]
  },
  {
   "cell_type": "markdown",
   "id": "9fc719d7-b43e-4b3a-ab86-2bb6ed111805",
   "metadata": {},
   "source": [
    "Final summary statistics for participants with known disorders"
   ]
  },
  {
   "cell_type": "code",
   "execution_count": 72,
   "id": "a9c95718-0f64-4bf4-93f9-82a83a6536a6",
   "metadata": {
    "tags": []
   },
   "outputs": [],
   "source": [
    "known_disorder_df = final_phenotype_df.join(excluded_df, on=\"eid\", how=\"inner\")"
   ]
  },
  {
   "cell_type": "code",
   "execution_count": 75,
   "id": "56c0e80a-2b50-450f-989b-918e50782b40",
   "metadata": {
    "tags": []
   },
   "outputs": [],
   "source": [
    "known_disorder_final_summary_stats = (\n",
    "    known_disorder_df.agg(\n",
    "        F.sum(\n",
    "            F.when((F.col(\"hmb_ever\") == 1) & (F.col(\"mp_ever\") == 1), 1).otherwise(0),\n",
    "        ).alias(\"both\"),\n",
    "        F.sum(\n",
    "            F.when((F.col(\"hmb_ever\") == 1) & (F.col(\"mp_ever\") == 0), 1).otherwise(0),\n",
    "        ).alias(\"hmb_only\"),\n",
    "        F.sum(\n",
    "            F.when((F.col(\"hmb_ever\") == 0) & (F.col(\"mp_ever\") == 1), 1).otherwise(0),\n",
    "        ).alias(\"mp_only\"),\n",
    "        F.sum(\n",
    "            F.when((F.col(\"hmb_ever\") == 0) & (F.col(\"mp_ever\") == 0), 1).otherwise(0),\n",
    "        ).alias(\"neither\"),\n",
    "    )\n",
    "    .collect()[0]\n",
    "    .asDict()\n",
    ")"
   ]
  },
  {
   "cell_type": "code",
   "execution_count": 76,
   "id": "e29be5a6-ca77-42b8-aa7d-385c15bda266",
   "metadata": {
    "tags": []
   },
   "outputs": [
    {
     "name": "stdout",
     "output_type": "stream",
     "text": [
      "both: 1094\n",
      "hmb_only: 8404\n",
      "mp_only: 386\n",
      "neither: 23855\n"
     ]
    }
   ],
   "source": [
    "for key, value in known_disorder_final_summary_stats.items():\n",
    "    print(f\"{key}: {value}\")"
   ]
  },
  {
   "cell_type": "markdown",
   "id": "483a30f1",
   "metadata": {},
   "source": [
    "# Age distribution curve"
   ]
  },
  {
   "cell_type": "code",
   "execution_count": 77,
   "id": "2790b4c4",
   "metadata": {
    "tags": []
   },
   "outputs": [],
   "source": [
    "import seaborn as sns\n",
    "\n",
    "# filter out rows where 'diagnosis_age' is null\n",
    "filtered_ages = (\n",
    "    mp_phenotype_df.filter(mp_phenotype_df[\"diagnosis_age\"].isNotNull())\n",
    "    .select(\"diagnosis_age\")\n",
    "    .rdd.flatMap(lambda x: x)\n",
    "    .collect()\n",
    ")"
   ]
  },
  {
   "cell_type": "code",
   "execution_count": 78,
   "id": "d0948dd4",
   "metadata": {
    "tags": []
   },
   "outputs": [
    {
     "data": {
      "image/png": "[encoded data removed]",
      "text/plain": [
       "<Figure size 1000x600 with 1 Axes>"
      ]
     },
     "metadata": {},
     "output_type": "display_data"
    }
   ],
   "source": [
    "sns.set_theme(style=\"whitegrid\")  \n",
    "plt.figure(figsize=(10, 6))  \n",
    "\n",
    "# calculate average diagnosis age and plot age distribution curve\n",
    "avg_diagnosis_age = mp_counts[\"avg_diagnosis_age\"]\n",
    "\n",
    "sns.kdeplot(filtered_ages, fill=True, clip=(15, 70), color='skyblue', linewidth=2)\n",
    "plt.axvline(avg_diagnosis_age, color='red', linestyle='--', linewidth=2, label=f\"Mean = {avg_diagnosis_age:.2f}\")\n",
    "\n",
    "plt.title(\"Menstrual Pain Age Distribution Curve\", fontsize=16)\n",
    "plt.xlabel(\"Age\", fontsize=12)\n",
    "plt.ylabel(\"Density\", fontsize=12)\n",
    "plt.legend()\n",
    "plt.show()"
   ]
  },
  {
   "cell_type": "code",
   "execution_count": null,
   "id": "c5853332",
   "metadata": {},
   "outputs": [],
   "source": []
  },
  {
   "cell_type": "code",
   "execution_count": null,
   "id": "de02e1ea",
   "metadata": {},
   "outputs": [],
   "source": []
  },
  {
   "cell_type": "code",
   "execution_count": null,
   "id": "51921140",
   "metadata": {},
   "outputs": [],
   "source": []
  },
  {
   "cell_type": "code",
   "execution_count": null,
   "id": "7602bc21",
   "metadata": {},
   "outputs": [],
   "source": []
  },
  {
   "cell_type": "code",
   "execution_count": null,
   "id": "a88e1b32",
   "metadata": {},
   "outputs": [],
   "source": []
  }
 ],
 "metadata": {
  "kernelspec": {
   "display_name": "Python 3 (ipykernel)",
   "language": "python",
   "name": "python3"
  },
  "language_info": {
   "codemirror_mode": {
    "name": "ipython",
    "version": 3
   },
   "file_extension": ".py",
   "mimetype": "text/x-python",
   "name": "python",
   "nbconvert_exporter": "python",
   "pygments_lexer": "ipython3",
   "version": "3.9.16"
  }
 },
 "nbformat": 4,
 "nbformat_minor": 5
}
